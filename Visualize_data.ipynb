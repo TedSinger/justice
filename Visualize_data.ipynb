{
 "cells": [
  {
   "cell_type": "code",
   "execution_count": null,
   "metadata": {},
   "outputs": [],
   "source": [
    "%matplotlib inline\n",
    "import pandas as pd\n",
    "import numpy as np\n",
    "import matplotlib.pyplot as plt"
   ]
  },
  {
   "cell_type": "code",
   "execution_count": null,
   "metadata": {
    "scrolled": true
   },
   "outputs": [],
   "source": [
    "from justice import sample_data\n",
    "\n",
    "for name in sample_data.get_data_names():\n",
    "    original = sample_data.get_sample_data(name)\n",
    "    downsampled = sample_data.get_downsampled_data(name)\n",
    "    plt.figure(figsize=(20, 10))\n",
    "    plt.title(name)\n",
    "    plt.scatter(original[:, 0], original[:, 1], marker='.', s=1, color='#abb9d1')\n",
    "    plt.scatter(downsampled[:, 0], downsampled[:, 1], marker='o', s=40, color='#3c8e2d')"
   ]
  },
  {
   "cell_type": "code",
   "execution_count": null,
   "metadata": {
    "scrolled": false
   },
   "outputs": [],
   "source": [
    "import random\n",
    "from justice import noao_gaia_data\n",
    "\n",
    "rng = random.Random(329)\n",
    "index_array = noao_gaia_data.source_id_to_ranges_index.read()\n",
    "array = noao_gaia_data.all_lc_data.read()\n",
    "\n",
    "for _ in xrange(5):\n",
    "    random_id, min_idx, max_idx = rng.choice(index_array)\n",
    "    subsel = array[min_idx:(max_idx + 1)]\n",
    "    plt.figure(figsize=(20, 10))\n",
    "    plt.title(str(source_id))\n",
    "    # This dataset doesn't seem to have that many points, so larger markers are OK.\n",
    "    plt.scatter(subsel[:, 0], subsel[:, 1], marker='o', s=40, color='#3c8e2d')"
   ]
  }
 ],
 "metadata": {
  "kernelspec": {
   "display_name": "Python 2",
   "language": "python",
   "name": "python2"
  },
  "language_info": {
   "codemirror_mode": {
    "name": "ipython",
    "version": 2
   },
   "file_extension": ".py",
   "mimetype": "text/x-python",
   "name": "python",
   "nbconvert_exporter": "python",
   "pygments_lexer": "ipython2",
   "version": "2.7.12"
  }
 },
 "nbformat": 4,
 "nbformat_minor": 2
}
