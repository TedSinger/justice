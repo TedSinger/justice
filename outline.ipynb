{
 "cells": [
  {
   "cell_type": "markdown",
   "metadata": {},
   "source": [
    "Alex Malz, David Mykytyn"
   ]
  },
  {
   "cell_type": "code",
   "execution_count": null,
   "metadata": {},
   "outputs": [],
   "source": [
    "from collections import namedtuple\n",
    "import numpy as np\n",
    "import scipy.stats as sps\n",
    "import scipy.optimize as spo\n",
    "import matplotlib.pyplot as plt\n",
    "%matplotlib inline"
   ]
  },
  {
   "cell_type": "code",
   "execution_count": null,
   "metadata": {},
   "outputs": [],
   "source": [
    "LC = namedtuple('LC', ('x', 'y'))"
   ]
  },
  {
   "cell_type": "code",
   "execution_count": null,
   "metadata": {},
   "outputs": [],
   "source": []
  },
  {
   "cell_type": "markdown",
   "metadata": {},
   "source": [
    " may need to preprocess to keep it reasonable, constraints on delta/stretch"
   ]
  },
  {
   "cell_type": "markdown",
   "metadata": {},
   "source": [
    "# Simulate some mock data"
   ]
  },
  {
   "cell_type": "code",
   "execution_count": null,
   "metadata": {},
   "outputs": [],
   "source": [
    "def make_gauss(loc, scale, amp=1., const=0.):\n",
    "    func = sps.norm(loc, scale)\n",
    "    out = lambda x: amp * func.pdf(x) + const\n",
    "    return out\n",
    "\n",
    "def make_sine(period, phase=0., amp=1., const=0.):\n",
    "    func = lambda x: amp * (np.sin(period * x + phase)) + const\n",
    "    return func"
   ]
  },
  {
   "cell_type": "code",
   "execution_count": null,
   "metadata": {},
   "outputs": [],
   "source": [
    "def make_cadence(x, scatter):\n",
    "    assert(np.all((x[1:]-x[:-1]) > scatter))\n",
    "    jitter = (np.random.uniform(np.shape(x)) - 0.5) * scatter * 2.\n",
    "    perturbed = x + jitter\n",
    "    return perturbed\n",
    "\n",
    "def noisify_obs(y, scatter):\n",
    "    errs = scatter * np.ones_like(y)\n",
    "    new_y = y + sps.norm(0., scatter).rvs(np.shape(y))\n",
    "    return(new_y, errs)"
   ]
  },
  {
   "cell_type": "code",
   "execution_count": null,
   "metadata": {},
   "outputs": [],
   "source": [
    "def_cadence = np.arange(0., 200., 5.)\n",
    "\n",
    "gmodel = make_gauss(100., 10., 50., 1.)\n",
    "gtimes = make_cadence(def_cadence, 0.5)\n",
    "gphot, gerr = noisify_obs(gmodel(gtimes), 0.1)\n",
    "glc = LC(gtimes, gphot)\n",
    "\n",
    "smodel = make_sine(20., 0., 5., 5.)\n",
    "stimes = make_cadence(def_cadence, 0.5)\n",
    "sphot, serr = noisify_obs(smodel(stimes), 0.3)\n",
    "slc = LC(stimes, sphot)"
   ]
  },
  {
   "cell_type": "code",
   "execution_count": null,
   "metadata": {},
   "outputs": [],
   "source": [
    "plt.errorbar(glc.x, glc.y, yerr=gerr, linestyle='None', marker='o')\n",
    "plt.errorbar(slc.x, slc.y, yerr=serr, linestyle='None', marker='+')"
   ]
  },
  {
   "cell_type": "markdown",
   "metadata": {},
   "source": [
    "## Permitted transformations\n",
    "\n",
    "* shiftx\n",
    "* stretchx\n",
    "* shifty\n",
    "* stretchy\n",
    "* (cross-talk between bands)\n"
   ]
  },
  {
   "cell_type": "code",
   "execution_count": null,
   "metadata": {},
   "outputs": [],
   "source": [
    "def transform(lc, deltax, deltay, stretchx, stretchy):\n",
    "    new_x = (stretchx * lc.x) + deltax\n",
    "    new_y = (stretchy * lc.y) + deltay\n",
    "    return LC(new_x, new_y)\n",
    "\n",
    "def merge(lca, lcb):\n",
    "    new_x = np.concatenate((lca.x, lcb.x))\n",
    "    new_y = np.concatenate((lca.y, lcb.y))\n",
    "    order = np.argsort(new_x)\n",
    "    ord_x = new_x[order]\n",
    "    ord_y = new_y[order]\n",
    "    return LC(ord_x, ord_y)"
   ]
  },
  {
   "cell_type": "markdown",
   "metadata": {},
   "source": [
    "# Reduce to summary statistics (consistency metric)\n",
    "\n",
    "Contenders:\n",
    "\n",
    "* periodogram -- identify periodicity and stochastic noise levels\n",
    "* flux per time bins -- trends keeping bin size constant but changing bin ends\n",
    "* abs/percent change in color and total flux/magnitude\n",
    "\n",
    "find MAP/MLE of p(A = B | lc_A, lc_B)\n",
    "optimize over shift/stretch params\n",
    "\n",
    "merge (x_A, x_B) and (y_A, y_B)"
   ]
  },
  {
   "cell_type": "code",
   "execution_count": null,
   "metadata": {},
   "outputs": [],
   "source": [
    "def connect_the_dots(lc):\n",
    "    x_difs = lc.x[1:] - lc.x[:-1]\n",
    "    y_difs = lc.y[1:] - lc.y[:-1]\n",
    "    sol = np.sqrt(x_difs ** 2 + y_difs **2)\n",
    "    return np.sum(sol)"
   ]
  },
  {
   "cell_type": "code",
   "execution_count": null,
   "metadata": {},
   "outputs": [],
   "source": []
  },
  {
   "cell_type": "code",
   "execution_count": null,
   "metadata": {},
   "outputs": [],
   "source": [
    "def find_max_prob(lca, lcb):\n",
    "    \n",
    "    origa = connect_the_dots(lca)\n",
    "    difmax = np.max((lca.x[-1]-lca.x[0], lcb.x[-1]-lcb.x[0]))\n",
    "    difmin = np.min((np.min(lca.x[1:]-lca.x[:-1]), np.min(lcb.x[-1]-lcb.x[0])))\n",
    "    \n",
    "    \n",
    "    def dlim_lo(params):\n",
    "        return params[:2]\n",
    "    def dlim_hi(params):\n",
    "        return difmax - params[:2]\n",
    "    def slim_hi(params):\n",
    "        return difmax - params[2:]\n",
    "    def slim_lo(params):\n",
    "        return params[2:] - difmin\n",
    "    def slim(params):\n",
    "        return params[2:]\n",
    "    \n",
    "    constraints = [dlim_hi, dlim_lo, slim_hi, slim_lo, slim]\n",
    "    \n",
    "    debug = []\n",
    "    def _helper(params):\n",
    "        (deltax, deltay, stretchx, stretchy) = params\n",
    "        lc = transform(lcb, deltax, deltay, stretchx, stretchy)\n",
    "        new_len = connect_the_dots(lc)\n",
    "        lc_both = merge(lca, lc) \n",
    "        length = connect_the_dots(lc_both) / stretchy * stretchx\n",
    "        to_min = length - origa - new_len\n",
    "        debug.append(to_min)\n",
    "        return(to_min)\n",
    "    \n",
    "    ivals = (0., 0., 1., 1.)\n",
    "    res = spo.fmin_cobyla(_helper, ivals, constraints)\n",
    "    return(res, debug)\n",
    "\n"
   ]
  },
  {
   "cell_type": "code",
   "execution_count": null,
   "metadata": {},
   "outputs": [],
   "source": [
    "# gtimes2 = gtimes + 50. * np.ones_like(gtimes)#ake_cadence(def_cadence, 0.5)\n",
    "# gphot2, gerr2 = gphot, gerr#noisify_obs(gmodel(gtimes2), 0.1)\n",
    "# glc2 = LC(gtimes2, gphot2)\n",
    "glc2 = transform(glc, 50., 0., 1., 1.)\n",
    "plt.plot(glc.x, glc.y)\n",
    "plt.plot(glc2.x, glc2.y)\n",
    "print((connect_the_dots(glc), connect_the_dots(glc2), connect_the_dots(merge(glc, glc2))))"
   ]
  },
  {
   "cell_type": "code",
   "execution_count": null,
   "metadata": {},
   "outputs": [],
   "source": [
    "ans, debug = find_max_prob(glc, glc2)\n",
    "print(ans)\n",
    "plt.plot(debug)"
   ]
  },
  {
   "cell_type": "code",
   "execution_count": null,
   "metadata": {},
   "outputs": [],
   "source": [
    "(dx, dy, sx, sy) = ans\n",
    "fin = transform(glc2, dx, dy, sx, sy)\n",
    "print(connect_the_dots(fin))\n",
    "plt.plot(glc.x, glc.y)\n",
    "plt.plot(fin.x, fin.y)"
   ]
  },
  {
   "cell_type": "code",
   "execution_count": null,
   "metadata": {},
   "outputs": [],
   "source": [
    "help(spo.minimize)"
   ]
  },
  {
   "cell_type": "code",
   "execution_count": null,
   "metadata": {},
   "outputs": [],
   "source": []
  },
  {
   "cell_type": "markdown",
   "metadata": {},
   "source": [
    "# Cluster in the space of summary statistics\n",
    "\n",
    "kdtree (and more)"
   ]
  },
  {
   "cell_type": "markdown",
   "metadata": {},
   "source": [
    "# Other ideas\n",
    "\n",
    "pairwise combinations/comparisons?"
   ]
  },
  {
   "cell_type": "code",
   "execution_count": null,
   "metadata": {},
   "outputs": [],
   "source": []
  }
 ],
 "metadata": {
  "kernelspec": {
   "display_name": "Python 3",
   "language": "python",
   "name": "python3"
  },
  "language_info": {
   "codemirror_mode": {
    "name": "ipython",
    "version": 3
   },
   "file_extension": ".py",
   "mimetype": "text/x-python",
   "name": "python",
   "nbconvert_exporter": "python",
   "pygments_lexer": "ipython3",
   "version": "3.6.5"
  }
 },
 "nbformat": 4,
 "nbformat_minor": 2
}
