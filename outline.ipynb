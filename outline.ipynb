{
 "cells": [
  {
   "cell_type": "markdown",
   "metadata": {},
   "source": [
    "Alex Malz, David Mykytyn"
   ]
  },
  {
   "cell_type": "code",
   "execution_count": null,
   "metadata": {},
   "outputs": [],
   "source": [
    "import numpy as np\n",
    "import scipy.stats as sps\n",
    "import scipy.optimize as spo\n",
    "import matplotlib.pyplot as plt\n",
    "%matplotlib inline"
   ]
  },
  {
   "cell_type": "code",
   "execution_count": null,
   "metadata": {},
   "outputs": [],
   "source": []
  },
  {
   "cell_type": "code",
   "execution_count": null,
   "metadata": {},
   "outputs": [],
   "source": []
  },
  {
   "cell_type": "code",
   "execution_count": null,
   "metadata": {},
   "outputs": [],
   "source": []
  },
  {
   "cell_type": "markdown",
   "metadata": {},
   "source": [
    "# Simulate some mock data"
   ]
  },
  {
   "cell_type": "code",
   "execution_count": null,
   "metadata": {},
   "outputs": [],
   "source": [
    "def make_gauss(params=None):\n",
    "    (amp, loc, scale) = params\n",
    "    func = sps.norm(loc, scale)\n",
    "    out = lambda x: amp * func.pdf(x)\n",
    "    return out\n",
    "\n",
    "\n",
    "def make_sine(params=None):\n",
    "    (amp, period, phase) = params\n",
    "    func = lambda x: amp / 2. * (np.sin(period * x + phase) + 1.)\n",
    "    return func"
   ]
  },
  {
   "cell_type": "code",
   "execution_count": null,
   "metadata": {},
   "outputs": [],
   "source": [
    "def make_cadence(start, stop, freq, scatter):\n",
    "    assert(scatter < freq)\n",
    "    \n",
    "    perfect = np.arange(start, stop, freq)\n",
    "    jitter = (np.random.uniform(np.shape(perfect)) - 0.5) * scatter * 2.\n",
    "    perturbed = perfect + jitter\n",
    "    return perturbed"
   ]
  },
  {
   "cell_type": "code",
   "execution_count": null,
   "metadata": {},
   "outputs": [],
   "source": [
    "flux_scatter = 0.1\n",
    "\n",
    "model = make_gauss(params=(50., 100., 10.))\n",
    "times = make_cadence(0., 200., 5., 0.1)\n",
    "lc_dat = model(times) + sps.norm(0., flux_scatter).rvs(np.shape(times))\n",
    "\n",
    "times2 = make_cadence(0., 200., 5., 0.1)\n",
    "mod2 = make_sine(params=(5., 20., 0.))\n",
    "dat2 = mod2(times) + sps.norm(0., flux_scatter).rvs(np.shape(times))"
   ]
  },
  {
   "cell_type": "code",
   "execution_count": null,
   "metadata": {},
   "outputs": [],
   "source": [
    "plt.errorbar(times, lc_dat, yerr=flux_scatter*np.ones_like(times), linestyle='None', marker='o')\n",
    "plt.errorbar(times, dat2, yerr=flux_scatter*np.ones_like(times), linestyle='None', marker='+')"
   ]
  },
  {
   "cell_type": "code",
   "execution_count": null,
   "metadata": {},
   "outputs": [],
   "source": [
    "help(plt.errorbar)"
   ]
  },
  {
   "cell_type": "markdown",
   "metadata": {},
   "source": [
    "## Permitted transformations\n",
    "\n",
    "* shiftx\n",
    "* stretchx\n",
    "* shifty\n",
    "* stretchy\n",
    "* (cross-talk between bands)\n"
   ]
  },
  {
   "cell_type": "markdown",
   "metadata": {},
   "source": [
    "## Consistency metric\n",
    "\n",
    "find MAP/MLE of p(A = B | lc_A, lc_B)\n",
    "optimize over shift/stretch params\n",
    "\n",
    "merge (x_A, x_B) and (y_A, y_B)"
   ]
  },
  {
   "cell_type": "code",
   "execution_count": null,
   "metadata": {},
   "outputs": [],
   "source": [
    "def transform((x, y), (deltax, deltay, stretchx, stretchy)):\n",
    "    new_x = (stretchx * x) + deltax\n",
    "    new_y = (stretchy * y) + deltay\n",
    "    return (new_x, new_y)\n",
    "\n",
    "def merge((xA, yA), (xB, yB)):\n",
    "    new_x = np.concatenate((xA, xB))\n",
    "    new_y = np.concatenate((yA, yB))\n",
    "    order = np.argsort(new_x)\n",
    "    ord_x = new_x[order]\n",
    "    ord_y = new_y[order]\n",
    "    pass"
   ]
  },
  {
   "cell_type": "code",
   "execution_count": null,
   "metadata": {},
   "outputs": [],
   "source": [
    "def connect_the_dots((x, y)):\n",
    "    x_difs = x[1:] - x[:-1]\n",
    "    y_difs = y[1:] - y[:-1]\n",
    "    slopes = y_difs / x_difs\n",
    "    lengths = x[1:] - x[:-1]\n",
    "    return np.dot(slopes, lengths)"
   ]
  },
  {
   "cell_type": "code",
   "execution_count": null,
   "metadata": {},
   "outputs": [],
   "source": [
    "def find_max_prob((xa, ya), (xb, yb)):\n",
    "    \n",
    "    origa = connect_the_dots((xa, ya))\n",
    "    origb = connect_the_dots((xb, yb))\n",
    "    orig_tot = origa + origb\n",
    "    \n",
    "    def _helper((deltax, deltay, stretchx, stretchy)):\n",
    "        ivals = (0., 0., 1., 1.)\n",
    "        (x, y) = transform((xb, yb), (deltax, deltay, stretchx, stretchy))\n",
    "        (x_both, y_both) = merge((xa, ya), (x, y)) \n",
    "        length = connect_the_dots((x_both, y_both))\n",
    "        return(length - orig_tot)\n",
    "    \n",
    "    res = spo.minimize(_helper, ivals)\n",
    "    return(res)\n",
    "\n"
   ]
  },
  {
   "cell_type": "code",
   "execution_count": null,
   "metadata": {},
   "outputs": [],
   "source": [
    "help(spo.minimize)"
   ]
  },
  {
   "cell_type": "code",
   "execution_count": null,
   "metadata": {},
   "outputs": [],
   "source": [
    "ans = find_max_prob((times, lc_dat), (times, lc_dat))"
   ]
  },
  {
   "cell_type": "code",
   "execution_count": null,
   "metadata": {},
   "outputs": [],
   "source": []
  },
  {
   "cell_type": "markdown",
   "metadata": {},
   "source": [
    "# Reduce to summary statistics\n",
    "\n",
    "periodogram -- identify periodicity and stochastic noise levels\n",
    "\n",
    "flux per time bins -- trends keeping bin size constant but changing bin ends\n",
    "\n",
    "abs/percent change in color and total flux/magnitude"
   ]
  },
  {
   "cell_type": "markdown",
   "metadata": {},
   "source": [
    "# Cluster in the space of summary statistics\n",
    "\n",
    "kdtree (and more)"
   ]
  },
  {
   "cell_type": "markdown",
   "metadata": {},
   "source": [
    "# Other ideas\n",
    "\n",
    "pairwise combinations/comparisons?"
   ]
  },
  {
   "cell_type": "code",
   "execution_count": null,
   "metadata": {},
   "outputs": [],
   "source": []
  }
 ],
 "metadata": {
  "kernelspec": {
   "display_name": "Python 3",
   "language": "python",
   "name": "python3"
  },
  "language_info": {
   "codemirror_mode": {
    "name": "ipython",
    "version": 3
   },
   "file_extension": ".py",
   "mimetype": "text/x-python",
   "name": "python",
   "nbconvert_exporter": "python",
   "pygments_lexer": "ipython3",
   "version": "3.6.5"
  }
 },
 "nbformat": 4,
 "nbformat_minor": 2
}
